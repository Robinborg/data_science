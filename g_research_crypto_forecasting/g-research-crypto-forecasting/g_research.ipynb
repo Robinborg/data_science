{
 "cells": [
  {
   "cell_type": "code",
   "execution_count": 40,
   "id": "24366bd3-45ef-4553-84af-3f4db272806c",
   "metadata": {},
   "outputs": [],
   "source": [
    "import numpy as np\n",
    "import pandas as pd\n",
    "import matplotlib.pyplot as plt\n",
    "import seaborn as sns"
   ]
  },
  {
   "cell_type": "code",
   "execution_count": null,
   "id": "46c3ef5c-c1e7-4f78-95b9-013867d0620e",
   "metadata": {},
   "outputs": [],
   "source": [
    "import xgboost as xgb"
   ]
  },
  {
   "cell_type": "code",
   "execution_count": 57,
   "id": "970bfa4a-8a5b-410e-a00f-dc5390e4edc8",
   "metadata": {},
   "outputs": [],
   "source": [
    "from sklearn import tree"
   ]
  },
  {
   "cell_type": "code",
   "execution_count": 90,
   "id": "a6e79a32-d79f-48a8-9315-80a15b719764",
   "metadata": {},
   "outputs": [],
   "source": [
    "df = pd.read_csv(\"train.csv\")"
   ]
  },
  {
   "cell_type": "code",
   "execution_count": 43,
   "id": "4fd89750-ac4f-46f0-b920-2f3357a46515",
   "metadata": {},
   "outputs": [],
   "source": [
    "asset_details = pd.read_csv(\"asset_details.csv\")"
   ]
  },
  {
   "cell_type": "code",
   "execution_count": 42,
   "id": "462d6be4-f80d-48a9-ba8b-e32afc97a992",
   "metadata": {},
   "outputs": [
    {
     "data": {
      "text/plain": [
       "<bound method DataFrame.info of            timestamp  Asset_ID  Count          Open          High  \\\n",
       "0         1514764860         2   40.0   2376.580000   2399.500000   \n",
       "1         1514764860         0    5.0      8.530000      8.530000   \n",
       "2         1514764860         1  229.0  13835.194000  14013.800000   \n",
       "3         1514764860         5   32.0      7.659600      7.659600   \n",
       "4         1514764860         7    5.0     25.920000     25.920000   \n",
       "...              ...       ...    ...           ...           ...   \n",
       "24236801  1632182400         9  775.0    157.181571    157.250000   \n",
       "24236802  1632182400        10   34.0   2437.065067   2438.000000   \n",
       "24236803  1632182400        13  380.0      0.091390      0.091527   \n",
       "24236804  1632182400        12  177.0      0.282168      0.282438   \n",
       "24236805  1632182400        11   48.0    232.695000    232.800000   \n",
       "\n",
       "                   Low         Close        Volume          VWAP    Target  \n",
       "0          2357.140000   2374.590000  1.923301e+01   2373.116392 -0.004218  \n",
       "1             8.530000      8.530000  7.838000e+01      8.530000 -0.014399  \n",
       "2         13666.110000  13850.176000  3.155006e+01  13827.062093 -0.014643  \n",
       "3             7.656700      7.657600  6.626713e+03      7.657713 -0.013922  \n",
       "4            25.874000     25.877000  1.210873e+02     25.891363 -0.008264  \n",
       "...                ...           ...           ...           ...       ...  \n",
       "24236801    156.700000    156.943857  4.663725e+03    156.994319       NaN  \n",
       "24236802   2430.226900   2432.907467  3.975460e+00   2434.818747       NaN  \n",
       "24236803      0.091260      0.091349  2.193732e+06      0.091388       NaN  \n",
       "24236804      0.281842      0.282051  1.828508e+05      0.282134       NaN  \n",
       "24236805    232.240000    232.275000  1.035123e+02    232.569697       NaN  \n",
       "\n",
       "[24236806 rows x 10 columns]>"
      ]
     },
     "execution_count": 42,
     "metadata": {},
     "output_type": "execute_result"
    }
   ],
   "source": [
    "df.info"
   ]
  },
  {
   "cell_type": "code",
   "execution_count": 37,
   "id": "aa16604e-d94a-448f-82a6-4c3e0fcd0759",
   "metadata": {},
   "outputs": [
    {
     "data": {
      "text/html": [
       "<div>\n",
       "<style scoped>\n",
       "    .dataframe tbody tr th:only-of-type {\n",
       "        vertical-align: middle;\n",
       "    }\n",
       "\n",
       "    .dataframe tbody tr th {\n",
       "        vertical-align: top;\n",
       "    }\n",
       "\n",
       "    .dataframe thead th {\n",
       "        text-align: right;\n",
       "    }\n",
       "</style>\n",
       "<table border=\"1\" class=\"dataframe\">\n",
       "  <thead>\n",
       "    <tr style=\"text-align: right;\">\n",
       "      <th></th>\n",
       "      <th>count</th>\n",
       "      <th>mean</th>\n",
       "      <th>std</th>\n",
       "      <th>min</th>\n",
       "      <th>25%</th>\n",
       "      <th>50%</th>\n",
       "      <th>75%</th>\n",
       "      <th>max</th>\n",
       "    </tr>\n",
       "  </thead>\n",
       "  <tbody>\n",
       "    <tr>\n",
       "      <th>timestamp</th>\n",
       "      <td>24236806.0</td>\n",
       "      <td>1.577120e+09</td>\n",
       "      <td>3.323350e+07</td>\n",
       "      <td>1.514765e+09</td>\n",
       "      <td>1.549011e+09</td>\n",
       "      <td>1.578372e+09</td>\n",
       "      <td>1.606198e+09</td>\n",
       "      <td>1.632182e+09</td>\n",
       "    </tr>\n",
       "    <tr>\n",
       "      <th>Asset_ID</th>\n",
       "      <td>24236806.0</td>\n",
       "      <td>6.292544e+00</td>\n",
       "      <td>4.091861e+00</td>\n",
       "      <td>0.000000e+00</td>\n",
       "      <td>3.000000e+00</td>\n",
       "      <td>6.000000e+00</td>\n",
       "      <td>9.000000e+00</td>\n",
       "      <td>1.300000e+01</td>\n",
       "    </tr>\n",
       "    <tr>\n",
       "      <th>Count</th>\n",
       "      <td>24236806.0</td>\n",
       "      <td>2.864593e+02</td>\n",
       "      <td>8.673982e+02</td>\n",
       "      <td>1.000000e+00</td>\n",
       "      <td>1.900000e+01</td>\n",
       "      <td>6.400000e+01</td>\n",
       "      <td>2.210000e+02</td>\n",
       "      <td>1.650160e+05</td>\n",
       "    </tr>\n",
       "    <tr>\n",
       "      <th>Open</th>\n",
       "      <td>24236806.0</td>\n",
       "      <td>1.432640e+03</td>\n",
       "      <td>6.029605e+03</td>\n",
       "      <td>1.170400e-03</td>\n",
       "      <td>2.676500e-01</td>\n",
       "      <td>1.428860e+01</td>\n",
       "      <td>2.288743e+02</td>\n",
       "      <td>6.480594e+04</td>\n",
       "    </tr>\n",
       "    <tr>\n",
       "      <th>High</th>\n",
       "      <td>24236806.0</td>\n",
       "      <td>1.436350e+03</td>\n",
       "      <td>6.039482e+03</td>\n",
       "      <td>1.195000e-03</td>\n",
       "      <td>2.681600e-01</td>\n",
       "      <td>1.431250e+01</td>\n",
       "      <td>2.293000e+02</td>\n",
       "      <td>6.490000e+04</td>\n",
       "    </tr>\n",
       "    <tr>\n",
       "      <th>Low</th>\n",
       "      <td>24236806.0</td>\n",
       "      <td>1.429568e+03</td>\n",
       "      <td>6.020261e+03</td>\n",
       "      <td>2.000000e-04</td>\n",
       "      <td>2.669000e-01</td>\n",
       "      <td>1.426300e+01</td>\n",
       "      <td>2.284200e+02</td>\n",
       "      <td>6.467053e+04</td>\n",
       "    </tr>\n",
       "    <tr>\n",
       "      <th>Close</th>\n",
       "      <td>24236806.0</td>\n",
       "      <td>1.432640e+03</td>\n",
       "      <td>6.029611e+03</td>\n",
       "      <td>1.171400e-03</td>\n",
       "      <td>2.676483e-01</td>\n",
       "      <td>1.428920e+01</td>\n",
       "      <td>2.288729e+02</td>\n",
       "      <td>6.480854e+04</td>\n",
       "    </tr>\n",
       "    <tr>\n",
       "      <th>Volume</th>\n",
       "      <td>24236806.0</td>\n",
       "      <td>2.868530e+05</td>\n",
       "      <td>2.433935e+06</td>\n",
       "      <td>-3.662812e-01</td>\n",
       "      <td>1.410725e+02</td>\n",
       "      <td>1.295415e+03</td>\n",
       "      <td>2.729764e+04</td>\n",
       "      <td>7.597554e+08</td>\n",
       "    </tr>\n",
       "    <tr>\n",
       "      <th>VWAP</th>\n",
       "      <td>24236797.0</td>\n",
       "      <td>NaN</td>\n",
       "      <td>NaN</td>\n",
       "      <td>-inf</td>\n",
       "      <td>2.676368e-01</td>\n",
       "      <td>1.428769e+01</td>\n",
       "      <td>2.288728e+02</td>\n",
       "      <td>inf</td>\n",
       "    </tr>\n",
       "    <tr>\n",
       "      <th>Target</th>\n",
       "      <td>23486468.0</td>\n",
       "      <td>7.121752e-06</td>\n",
       "      <td>5.679042e-03</td>\n",
       "      <td>-5.093509e-01</td>\n",
       "      <td>-1.694354e-03</td>\n",
       "      <td>-4.289844e-05</td>\n",
       "      <td>1.601520e-03</td>\n",
       "      <td>9.641699e-01</td>\n",
       "    </tr>\n",
       "  </tbody>\n",
       "</table>\n",
       "</div>"
      ],
      "text/plain": [
       "                count          mean           std           min           25%  \\\n",
       "timestamp  24236806.0  1.577120e+09  3.323350e+07  1.514765e+09  1.549011e+09   \n",
       "Asset_ID   24236806.0  6.292544e+00  4.091861e+00  0.000000e+00  3.000000e+00   \n",
       "Count      24236806.0  2.864593e+02  8.673982e+02  1.000000e+00  1.900000e+01   \n",
       "Open       24236806.0  1.432640e+03  6.029605e+03  1.170400e-03  2.676500e-01   \n",
       "High       24236806.0  1.436350e+03  6.039482e+03  1.195000e-03  2.681600e-01   \n",
       "Low        24236806.0  1.429568e+03  6.020261e+03  2.000000e-04  2.669000e-01   \n",
       "Close      24236806.0  1.432640e+03  6.029611e+03  1.171400e-03  2.676483e-01   \n",
       "Volume     24236806.0  2.868530e+05  2.433935e+06 -3.662812e-01  1.410725e+02   \n",
       "VWAP       24236797.0           NaN           NaN          -inf  2.676368e-01   \n",
       "Target     23486468.0  7.121752e-06  5.679042e-03 -5.093509e-01 -1.694354e-03   \n",
       "\n",
       "                    50%           75%           max  \n",
       "timestamp  1.578372e+09  1.606198e+09  1.632182e+09  \n",
       "Asset_ID   6.000000e+00  9.000000e+00  1.300000e+01  \n",
       "Count      6.400000e+01  2.210000e+02  1.650160e+05  \n",
       "Open       1.428860e+01  2.288743e+02  6.480594e+04  \n",
       "High       1.431250e+01  2.293000e+02  6.490000e+04  \n",
       "Low        1.426300e+01  2.284200e+02  6.467053e+04  \n",
       "Close      1.428920e+01  2.288729e+02  6.480854e+04  \n",
       "Volume     1.295415e+03  2.729764e+04  7.597554e+08  \n",
       "VWAP       1.428769e+01  2.288728e+02           inf  \n",
       "Target    -4.289844e-05  1.601520e-03  9.641699e-01  "
      ]
     },
     "execution_count": 37,
     "metadata": {},
     "output_type": "execute_result"
    }
   ],
   "source": [
    "df.describe().transpose()"
   ]
  },
  {
   "cell_type": "code",
   "execution_count": null,
   "id": "addc21fa-fac8-4b64-8e47-6f15338223a7",
   "metadata": {},
   "outputs": [],
   "source": [
    "df.head(5)"
   ]
  },
  {
   "cell_type": "code",
   "execution_count": null,
   "id": "ce01a981-9c64-409a-a18a-b5a30b778c6f",
   "metadata": {},
   "outputs": [],
   "source": [
    "df.tail(5)"
   ]
  },
  {
   "cell_type": "code",
   "execution_count": 31,
   "id": "0b8fb017-f704-4c11-b267-7ba729d9b9a6",
   "metadata": {},
   "outputs": [
    {
     "data": {
      "text/plain": [
       "Index(['timestamp', 'Asset_ID', 'Count', 'Open', 'High', 'Low', 'Close',\n",
       "       'Volume', 'VWAP', 'Target'],\n",
       "      dtype='object')"
      ]
     },
     "execution_count": 31,
     "metadata": {},
     "output_type": "execute_result"
    }
   ],
   "source": [
    "df.columns"
   ]
  },
  {
   "cell_type": "code",
   "execution_count": 32,
   "id": "ad717112-14c5-44e6-8af4-f3b67dae7221",
   "metadata": {},
   "outputs": [
    {
     "data": {
      "text/plain": [
       "RangeIndex(start=0, stop=24236806, step=1)"
      ]
     },
     "execution_count": 32,
     "metadata": {},
     "output_type": "execute_result"
    }
   ],
   "source": [
    "df.index"
   ]
  },
  {
   "cell_type": "code",
   "execution_count": null,
   "id": "8744cf36-0e53-4668-a470-16a92b72c331",
   "metadata": {},
   "outputs": [],
   "source": [
    "df.columns"
   ]
  },
  {
   "cell_type": "code",
   "execution_count": null,
   "id": "8acc2eac-e8c4-4e27-88a8-c846fe770d93",
   "metadata": {},
   "outputs": [],
   "source": []
  },
  {
   "cell_type": "code",
   "execution_count": null,
   "id": "32370c37-cb4b-4792-899d-8335891f8162",
   "metadata": {},
   "outputs": [],
   "source": [
    "plt.figure()\n",
    "sns.scatterplot(x = \"High\", y = \"Target\", data=df)"
   ]
  },
  {
   "cell_type": "code",
   "execution_count": null,
   "id": "ffe3d232-3652-4a90-b200-6f10f559ea60",
   "metadata": {},
   "outputs": [],
   "source": []
  },
  {
   "cell_type": "code",
   "execution_count": null,
   "id": "59a61c76-5e90-442d-9a88-aa4a7e4cab9d",
   "metadata": {},
   "outputs": [],
   "source": []
  },
  {
   "cell_type": "code",
   "execution_count": null,
   "id": "e247c9a0-b098-4c06-a0af-e742cd396744",
   "metadata": {},
   "outputs": [],
   "source": []
  },
  {
   "cell_type": "code",
   "execution_count": null,
   "id": "951ebb93-407d-4b1d-b262-d9dbecb04621",
   "metadata": {},
   "outputs": [],
   "source": []
  },
  {
   "cell_type": "code",
   "execution_count": null,
   "id": "153561ea-c9b8-456a-82ce-2889e22fa5e6",
   "metadata": {},
   "outputs": [],
   "source": []
  },
  {
   "cell_type": "code",
   "execution_count": null,
   "id": "aad1f64e-3b39-48de-954d-96f7526ae06f",
   "metadata": {},
   "outputs": [],
   "source": []
  },
  {
   "cell_type": "code",
   "execution_count": null,
   "id": "0c6d154a-ebfb-4bb6-b490-e3b8acf93ce9",
   "metadata": {},
   "outputs": [],
   "source": []
  }
 ],
 "metadata": {
  "kernelspec": {
   "display_name": "python38",
   "language": "python",
   "name": "python38"
  },
  "language_info": {
   "codemirror_mode": {
    "name": "ipython",
    "version": 3
   },
   "file_extension": ".py",
   "mimetype": "text/x-python",
   "name": "python",
   "nbconvert_exporter": "python",
   "pygments_lexer": "ipython3",
   "version": "3.8.8"
  }
 },
 "nbformat": 4,
 "nbformat_minor": 5
}
