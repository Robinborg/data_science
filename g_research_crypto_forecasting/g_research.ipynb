{
 "cells": [
  {
   "cell_type": "code",
   "execution_count": 1,
   "id": "24366bd3-45ef-4553-84af-3f4db272806c",
   "metadata": {},
   "outputs": [],
   "source": [
    "import numpy as np\n",
    "import pandas as pd\n",
    "import matplotlib.pyplot as plt\n",
    "import seaborn as sns"
   ]
  },
  {
   "cell_type": "code",
   "execution_count": null,
   "id": "46c3ef5c-c1e7-4f78-95b9-013867d0620e",
   "metadata": {},
   "outputs": [],
   "source": [
    "import xgboost as xgb"
   ]
  },
  {
   "cell_type": "code",
   "execution_count": 57,
   "id": "970bfa4a-8a5b-410e-a00f-dc5390e4edc8",
   "metadata": {},
   "outputs": [],
   "source": [
    "from sklearn import tree"
   ]
  },
  {
   "cell_type": "code",
   "execution_count": 2,
   "id": "a6e79a32-d79f-48a8-9315-80a15b719764",
   "metadata": {},
   "outputs": [],
   "source": [
    "df = pd.read_csv(\"train.csv\")"
   ]
  },
  {
   "cell_type": "code",
   "execution_count": 43,
   "id": "4fd89750-ac4f-46f0-b920-2f3357a46515",
   "metadata": {},
   "outputs": [],
   "source": [
    "asset_details = pd.read_csv(\"asset_details.csv\")"
   ]
  },
  {
   "cell_type": "code",
   "execution_count": 42,
   "id": "462d6be4-f80d-48a9-ba8b-e32afc97a992",
   "metadata": {},
   "outputs": [
    {
     "data": {
      "text/plain": [
       "<bound method DataFrame.info of            timestamp  Asset_ID  Count          Open          High  \\\n",
       "0         1514764860         2   40.0   2376.580000   2399.500000   \n",
       "1         1514764860         0    5.0      8.530000      8.530000   \n",
       "2         1514764860         1  229.0  13835.194000  14013.800000   \n",
       "3         1514764860         5   32.0      7.659600      7.659600   \n",
       "4         1514764860         7    5.0     25.920000     25.920000   \n",
       "...              ...       ...    ...           ...           ...   \n",
       "24236801  1632182400         9  775.0    157.181571    157.250000   \n",
       "24236802  1632182400        10   34.0   2437.065067   2438.000000   \n",
       "24236803  1632182400        13  380.0      0.091390      0.091527   \n",
       "24236804  1632182400        12  177.0      0.282168      0.282438   \n",
       "24236805  1632182400        11   48.0    232.695000    232.800000   \n",
       "\n",
       "                   Low         Close        Volume          VWAP    Target  \n",
       "0          2357.140000   2374.590000  1.923301e+01   2373.116392 -0.004218  \n",
       "1             8.530000      8.530000  7.838000e+01      8.530000 -0.014399  \n",
       "2         13666.110000  13850.176000  3.155006e+01  13827.062093 -0.014643  \n",
       "3             7.656700      7.657600  6.626713e+03      7.657713 -0.013922  \n",
       "4            25.874000     25.877000  1.210873e+02     25.891363 -0.008264  \n",
       "...                ...           ...           ...           ...       ...  \n",
       "24236801    156.700000    156.943857  4.663725e+03    156.994319       NaN  \n",
       "24236802   2430.226900   2432.907467  3.975460e+00   2434.818747       NaN  \n",
       "24236803      0.091260      0.091349  2.193732e+06      0.091388       NaN  \n",
       "24236804      0.281842      0.282051  1.828508e+05      0.282134       NaN  \n",
       "24236805    232.240000    232.275000  1.035123e+02    232.569697       NaN  \n",
       "\n",
       "[24236806 rows x 10 columns]>"
      ]
     },
     "execution_count": 42,
     "metadata": {},
     "output_type": "execute_result"
    }
   ],
   "source": [
    "df.info"
   ]
  },
  {
   "cell_type": "code",
   "execution_count": 37,
   "id": "aa16604e-d94a-448f-82a6-4c3e0fcd0759",
   "metadata": {},
   "outputs": [
    {
     "data": {
      "text/html": [
       "<div>\n",
       "<style scoped>\n",
       "    .dataframe tbody tr th:only-of-type {\n",
       "        vertical-align: middle;\n",
       "    }\n",
       "\n",
       "    .dataframe tbody tr th {\n",
       "        vertical-align: top;\n",
       "    }\n",
       "\n",
       "    .dataframe thead th {\n",
       "        text-align: right;\n",
       "    }\n",
       "</style>\n",
       "<table border=\"1\" class=\"dataframe\">\n",
       "  <thead>\n",
       "    <tr style=\"text-align: right;\">\n",
       "      <th></th>\n",
       "      <th>count</th>\n",
       "      <th>mean</th>\n",
       "      <th>std</th>\n",
       "      <th>min</th>\n",
       "      <th>25%</th>\n",
       "      <th>50%</th>\n",
       "      <th>75%</th>\n",
       "      <th>max</th>\n",
       "    </tr>\n",
       "  </thead>\n",
       "  <tbody>\n",
       "    <tr>\n",
       "      <th>timestamp</th>\n",
       "      <td>24236806.0</td>\n",
       "      <td>1.577120e+09</td>\n",
       "      <td>3.323350e+07</td>\n",
       "      <td>1.514765e+09</td>\n",
       "      <td>1.549011e+09</td>\n",
       "      <td>1.578372e+09</td>\n",
       "      <td>1.606198e+09</td>\n",
       "      <td>1.632182e+09</td>\n",
       "    </tr>\n",
       "    <tr>\n",
       "      <th>Asset_ID</th>\n",
       "      <td>24236806.0</td>\n",
       "      <td>6.292544e+00</td>\n",
       "      <td>4.091861e+00</td>\n",
       "      <td>0.000000e+00</td>\n",
       "      <td>3.000000e+00</td>\n",
       "      <td>6.000000e+00</td>\n",
       "      <td>9.000000e+00</td>\n",
       "      <td>1.300000e+01</td>\n",
       "    </tr>\n",
       "    <tr>\n",
       "      <th>Count</th>\n",
       "      <td>24236806.0</td>\n",
       "      <td>2.864593e+02</td>\n",
       "      <td>8.673982e+02</td>\n",
       "      <td>1.000000e+00</td>\n",
       "      <td>1.900000e+01</td>\n",
       "      <td>6.400000e+01</td>\n",
       "      <td>2.210000e+02</td>\n",
       "      <td>1.650160e+05</td>\n",
       "    </tr>\n",
       "    <tr>\n",
       "      <th>Open</th>\n",
       "      <td>24236806.0</td>\n",
       "      <td>1.432640e+03</td>\n",
       "      <td>6.029605e+03</td>\n",
       "      <td>1.170400e-03</td>\n",
       "      <td>2.676500e-01</td>\n",
       "      <td>1.428860e+01</td>\n",
       "      <td>2.288743e+02</td>\n",
       "      <td>6.480594e+04</td>\n",
       "    </tr>\n",
       "    <tr>\n",
       "      <th>High</th>\n",
       "      <td>24236806.0</td>\n",
       "      <td>1.436350e+03</td>\n",
       "      <td>6.039482e+03</td>\n",
       "      <td>1.195000e-03</td>\n",
       "      <td>2.681600e-01</td>\n",
       "      <td>1.431250e+01</td>\n",
       "      <td>2.293000e+02</td>\n",
       "      <td>6.490000e+04</td>\n",
       "    </tr>\n",
       "    <tr>\n",
       "      <th>Low</th>\n",
       "      <td>24236806.0</td>\n",
       "      <td>1.429568e+03</td>\n",
       "      <td>6.020261e+03</td>\n",
       "      <td>2.000000e-04</td>\n",
       "      <td>2.669000e-01</td>\n",
       "      <td>1.426300e+01</td>\n",
       "      <td>2.284200e+02</td>\n",
       "      <td>6.467053e+04</td>\n",
       "    </tr>\n",
       "    <tr>\n",
       "      <th>Close</th>\n",
       "      <td>24236806.0</td>\n",
       "      <td>1.432640e+03</td>\n",
       "      <td>6.029611e+03</td>\n",
       "      <td>1.171400e-03</td>\n",
       "      <td>2.676483e-01</td>\n",
       "      <td>1.428920e+01</td>\n",
       "      <td>2.288729e+02</td>\n",
       "      <td>6.480854e+04</td>\n",
       "    </tr>\n",
       "    <tr>\n",
       "      <th>Volume</th>\n",
       "      <td>24236806.0</td>\n",
       "      <td>2.868530e+05</td>\n",
       "      <td>2.433935e+06</td>\n",
       "      <td>-3.662812e-01</td>\n",
       "      <td>1.410725e+02</td>\n",
       "      <td>1.295415e+03</td>\n",
       "      <td>2.729764e+04</td>\n",
       "      <td>7.597554e+08</td>\n",
       "    </tr>\n",
       "    <tr>\n",
       "      <th>VWAP</th>\n",
       "      <td>24236797.0</td>\n",
       "      <td>NaN</td>\n",
       "      <td>NaN</td>\n",
       "      <td>-inf</td>\n",
       "      <td>2.676368e-01</td>\n",
       "      <td>1.428769e+01</td>\n",
       "      <td>2.288728e+02</td>\n",
       "      <td>inf</td>\n",
       "    </tr>\n",
       "    <tr>\n",
       "      <th>Target</th>\n",
       "      <td>23486468.0</td>\n",
       "      <td>7.121752e-06</td>\n",
       "      <td>5.679042e-03</td>\n",
       "      <td>-5.093509e-01</td>\n",
       "      <td>-1.694354e-03</td>\n",
       "      <td>-4.289844e-05</td>\n",
       "      <td>1.601520e-03</td>\n",
       "      <td>9.641699e-01</td>\n",
       "    </tr>\n",
       "  </tbody>\n",
       "</table>\n",
       "</div>"
      ],
      "text/plain": [
       "                count          mean           std           min           25%  \\\n",
       "timestamp  24236806.0  1.577120e+09  3.323350e+07  1.514765e+09  1.549011e+09   \n",
       "Asset_ID   24236806.0  6.292544e+00  4.091861e+00  0.000000e+00  3.000000e+00   \n",
       "Count      24236806.0  2.864593e+02  8.673982e+02  1.000000e+00  1.900000e+01   \n",
       "Open       24236806.0  1.432640e+03  6.029605e+03  1.170400e-03  2.676500e-01   \n",
       "High       24236806.0  1.436350e+03  6.039482e+03  1.195000e-03  2.681600e-01   \n",
       "Low        24236806.0  1.429568e+03  6.020261e+03  2.000000e-04  2.669000e-01   \n",
       "Close      24236806.0  1.432640e+03  6.029611e+03  1.171400e-03  2.676483e-01   \n",
       "Volume     24236806.0  2.868530e+05  2.433935e+06 -3.662812e-01  1.410725e+02   \n",
       "VWAP       24236797.0           NaN           NaN          -inf  2.676368e-01   \n",
       "Target     23486468.0  7.121752e-06  5.679042e-03 -5.093509e-01 -1.694354e-03   \n",
       "\n",
       "                    50%           75%           max  \n",
       "timestamp  1.578372e+09  1.606198e+09  1.632182e+09  \n",
       "Asset_ID   6.000000e+00  9.000000e+00  1.300000e+01  \n",
       "Count      6.400000e+01  2.210000e+02  1.650160e+05  \n",
       "Open       1.428860e+01  2.288743e+02  6.480594e+04  \n",
       "High       1.431250e+01  2.293000e+02  6.490000e+04  \n",
       "Low        1.426300e+01  2.284200e+02  6.467053e+04  \n",
       "Close      1.428920e+01  2.288729e+02  6.480854e+04  \n",
       "Volume     1.295415e+03  2.729764e+04  7.597554e+08  \n",
       "VWAP       1.428769e+01  2.288728e+02           inf  \n",
       "Target    -4.289844e-05  1.601520e-03  9.641699e-01  "
      ]
     },
     "execution_count": 37,
     "metadata": {},
     "output_type": "execute_result"
    }
   ],
   "source": [
    "df.describe().transpose()"
   ]
  },
  {
   "cell_type": "code",
   "execution_count": null,
   "id": "addc21fa-fac8-4b64-8e47-6f15338223a7",
   "metadata": {},
   "outputs": [],
   "source": [
    "df.head(5)"
   ]
  },
  {
   "cell_type": "code",
   "execution_count": null,
   "id": "ce01a981-9c64-409a-a18a-b5a30b778c6f",
   "metadata": {},
   "outputs": [],
   "source": [
    "df.tail(5)"
   ]
  },
  {
   "cell_type": "code",
   "execution_count": 31,
   "id": "0b8fb017-f704-4c11-b267-7ba729d9b9a6",
   "metadata": {},
   "outputs": [
    {
     "data": {
      "text/plain": [
       "Index(['timestamp', 'Asset_ID', 'Count', 'Open', 'High', 'Low', 'Close',\n",
       "       'Volume', 'VWAP', 'Target'],\n",
       "      dtype='object')"
      ]
     },
     "execution_count": 31,
     "metadata": {},
     "output_type": "execute_result"
    }
   ],
   "source": [
    "df.columns"
   ]
  },
  {
   "cell_type": "code",
   "execution_count": 32,
   "id": "ad717112-14c5-44e6-8af4-f3b67dae7221",
   "metadata": {},
   "outputs": [
    {
     "data": {
      "text/plain": [
       "RangeIndex(start=0, stop=24236806, step=1)"
      ]
     },
     "execution_count": 32,
     "metadata": {},
     "output_type": "execute_result"
    }
   ],
   "source": [
    "df.index"
   ]
  },
  {
   "cell_type": "code",
   "execution_count": null,
   "id": "8744cf36-0e53-4668-a470-16a92b72c331",
   "metadata": {},
   "outputs": [],
   "source": [
    "df.columns"
   ]
  },
  {
   "cell_type": "code",
   "execution_count": 10,
   "id": "8acc2eac-e8c4-4e27-88a8-c846fe770d93",
   "metadata": {},
   "outputs": [
    {
     "data": {
      "text/plain": [
       "<AxesSubplot:xlabel='Target', ylabel='Open'>"
      ]
     },
     "execution_count": 10,
     "metadata": {},
     "output_type": "execute_result"
    },
    {
     "data": {
      "image/png": "[encoded data removed]",
      "text/plain": [
       "<Figure size 432x288 with 1 Axes>"
      ]
     },
     "metadata": {
      "needs_background": "light"
     },
     "output_type": "display_data"
    }
   ],
   "source": [
    "sns.scatterplot(x = \"Target\", y = \"Open\", data=df)"
   ]
  },
  {
   "cell_type": "code",
   "execution_count": 11,
   "id": "32370c37-cb4b-4792-899d-8335891f8162",
   "metadata": {},
   "outputs": [
    {
     "data": {
      "text/plain": [
       "<AxesSubplot:xlabel='Target', ylabel='High'>"
      ]
     },
     "execution_count": 11,
     "metadata": {},
     "output_type": "execute_result"
    },
    {
     "data": {
      "image/png": "[encoded data removed]",
      "text/plain": [
       "<Figure size 432x288 with 1 Axes>"
      ]
     },
     "metadata": {
      "needs_background": "light"
     },
     "output_type": "display_data"
    }
   ],
   "source": [
    "sns.scatterplot(x = \"Target\", y = \"High\", data=df)"
   ]
  },
  {
   "cell_type": "code",
   "execution_count": 12,
   "id": "ffe3d232-3652-4a90-b200-6f10f559ea60",
   "metadata": {},
   "outputs": [
    {
     "data": {
      "text/plain": [
       "<AxesSubplot:xlabel='Target', ylabel='Low'>"
      ]
     },
     "execution_count": 12,
     "metadata": {},
     "output_type": "execute_result"
    },
    {
     "data": {
      "image/png": "[encoded data removed]",
      "text/plain": [
       "<Figure size 432x288 with 1 Axes>"
      ]
     },
     "metadata": {
      "needs_background": "light"
     },
     "output_type": "display_data"
    }
   ],
   "source": [
    "sns.scatterplot(x = \"Target\", y = \"Low\", data=df)"
   ]
  },
  {
   "cell_type": "code",
   "execution_count": 9,
   "id": "59a61c76-5e90-442d-9a88-aa4a7e4cab9d",
   "metadata": {},
   "outputs": [
    {
     "data": {
      "text/plain": [
       "<AxesSubplot:xlabel='Target', ylabel='Open'>"
      ]
     },
     "execution_count": 9,
     "metadata": {},
     "output_type": "execute_result"
    },
    {
     "data": {
      "image/png": "[encoded data removed]",
      "text/plain": [
       "<Figure size 432x288 with 1 Axes>"
      ]
     },
     "metadata": {
      "needs_background": "light"
     },
     "output_type": "display_data"
    }
   ],
   "source": [
    "sns.scatterplot(x = \"Target\", y = \"Open\", data=df)"
   ]
  },
  {
   "cell_type": "code",
   "execution_count": 8,
   "id": "e247c9a0-b098-4c06-a0af-e742cd396744",
   "metadata": {},
   "outputs": [
    {
     "data": {
      "text/plain": [
       "<AxesSubplot:xlabel='Target', ylabel='Volume'>"
      ]
     },
     "execution_count": 8,
     "metadata": {},
     "output_type": "execute_result"
    },
    {
     "data": {
      "image/png": "[encoded data removed]",
      "text/plain": [
       "<Figure size 432x288 with 1 Axes>"
      ]
     },
     "metadata": {
      "needs_background": "light"
     },
     "output_type": "display_data"
    }
   ],
   "source": [
    "sns.scatterplot(x = \"Target\", y = \"Volume\", data=df)"
   ]
  },
  {
   "cell_type": "code",
   "execution_count": 5,
   "id": "951ebb93-407d-4b1d-b262-d9dbecb04621",
   "metadata": {},
   "outputs": [
    {
     "data": {
      "text/html": [
       "<div>\n",
       "<style scoped>\n",
       "    .dataframe tbody tr th:only-of-type {\n",
       "        vertical-align: middle;\n",
       "    }\n",
       "\n",
       "    .dataframe tbody tr th {\n",
       "        vertical-align: top;\n",
       "    }\n",
       "\n",
       "    .dataframe thead th {\n",
       "        text-align: right;\n",
       "    }\n",
       "</style>\n",
       "<table border=\"1\" class=\"dataframe\">\n",
       "  <thead>\n",
       "    <tr style=\"text-align: right;\">\n",
       "      <th></th>\n",
       "      <th>High</th>\n",
       "      <th>Low</th>\n",
       "      <th>Count</th>\n",
       "      <th>Open</th>\n",
       "      <th>Volume</th>\n",
       "      <th>VWAP</th>\n",
       "      <th>Target</th>\n",
       "    </tr>\n",
       "  </thead>\n",
       "  <tbody>\n",
       "    <tr>\n",
       "      <th>High</th>\n",
       "      <td>1.000000</td>\n",
       "      <td>0.999991</td>\n",
       "      <td>0.397802</td>\n",
       "      <td>0.999997</td>\n",
       "      <td>-0.028009</td>\n",
       "      <td>0.999997</td>\n",
       "      <td>-0.001069</td>\n",
       "    </tr>\n",
       "    <tr>\n",
       "      <th>Low</th>\n",
       "      <td>0.999991</td>\n",
       "      <td>1.000000</td>\n",
       "      <td>0.397007</td>\n",
       "      <td>0.999997</td>\n",
       "      <td>-0.027966</td>\n",
       "      <td>0.999998</td>\n",
       "      <td>-0.001065</td>\n",
       "    </tr>\n",
       "    <tr>\n",
       "      <th>Count</th>\n",
       "      <td>0.397802</td>\n",
       "      <td>0.397007</td>\n",
       "      <td>1.000000</td>\n",
       "      <td>0.397437</td>\n",
       "      <td>0.325419</td>\n",
       "      <td>0.397419</td>\n",
       "      <td>0.005706</td>\n",
       "    </tr>\n",
       "    <tr>\n",
       "      <th>Open</th>\n",
       "      <td>0.999997</td>\n",
       "      <td>0.999997</td>\n",
       "      <td>0.397437</td>\n",
       "      <td>1.000000</td>\n",
       "      <td>-0.027983</td>\n",
       "      <td>1.000000</td>\n",
       "      <td>-0.001066</td>\n",
       "    </tr>\n",
       "    <tr>\n",
       "      <th>Volume</th>\n",
       "      <td>-0.028009</td>\n",
       "      <td>-0.027966</td>\n",
       "      <td>0.325419</td>\n",
       "      <td>-0.027983</td>\n",
       "      <td>1.000000</td>\n",
       "      <td>-0.027983</td>\n",
       "      <td>0.011992</td>\n",
       "    </tr>\n",
       "    <tr>\n",
       "      <th>VWAP</th>\n",
       "      <td>0.999997</td>\n",
       "      <td>0.999998</td>\n",
       "      <td>0.397419</td>\n",
       "      <td>1.000000</td>\n",
       "      <td>-0.027983</td>\n",
       "      <td>1.000000</td>\n",
       "      <td>-0.001066</td>\n",
       "    </tr>\n",
       "    <tr>\n",
       "      <th>Target</th>\n",
       "      <td>-0.001069</td>\n",
       "      <td>-0.001065</td>\n",
       "      <td>0.005706</td>\n",
       "      <td>-0.001066</td>\n",
       "      <td>0.011992</td>\n",
       "      <td>-0.001066</td>\n",
       "      <td>1.000000</td>\n",
       "    </tr>\n",
       "  </tbody>\n",
       "</table>\n",
       "</div>"
      ],
      "text/plain": [
       "            High       Low     Count      Open    Volume      VWAP    Target\n",
       "High    1.000000  0.999991  0.397802  0.999997 -0.028009  0.999997 -0.001069\n",
       "Low     0.999991  1.000000  0.397007  0.999997 -0.027966  0.999998 -0.001065\n",
       "Count   0.397802  0.397007  1.000000  0.397437  0.325419  0.397419  0.005706\n",
       "Open    0.999997  0.999997  0.397437  1.000000 -0.027983  1.000000 -0.001066\n",
       "Volume -0.028009 -0.027966  0.325419 -0.027983  1.000000 -0.027983  0.011992\n",
       "VWAP    0.999997  0.999998  0.397419  1.000000 -0.027983  1.000000 -0.001066\n",
       "Target -0.001069 -0.001065  0.005706 -0.001066  0.011992 -0.001066  1.000000"
      ]
     },
     "execution_count": 5,
     "metadata": {},
     "output_type": "execute_result"
    }
   ],
   "source": [
    "df[[\"High\", \"Low\", \"Count\", \"Open\", \"Volume\", \"VWAP\", \"Target\"]].corr(method=\"pearson\")"
   ]
  },
  {
   "cell_type": "code",
   "execution_count": 20,
   "id": "153561ea-c9b8-456a-82ce-2889e22fa5e6",
   "metadata": {},
   "outputs": [],
   "source": [
    "null_data = df[df.isnull().values.any(axis=1)]"
   ]
  },
  {
   "cell_type": "code",
   "execution_count": 22,
   "id": "aad1f64e-3b39-48de-954d-96f7526ae06f",
   "metadata": {},
   "outputs": [
    {
     "data": {
      "text/html": [
       "<div>\n",
       "<style scoped>\n",
       "    .dataframe tbody tr th:only-of-type {\n",
       "        vertical-align: middle;\n",
       "    }\n",
       "\n",
       "    .dataframe tbody tr th {\n",
       "        vertical-align: top;\n",
       "    }\n",
       "\n",
       "    .dataframe thead th {\n",
       "        text-align: right;\n",
       "    }\n",
       "</style>\n",
       "<table border=\"1\" class=\"dataframe\">\n",
       "  <thead>\n",
       "    <tr style=\"text-align: right;\">\n",
       "      <th></th>\n",
       "      <th>timestamp</th>\n",
       "      <th>Asset_ID</th>\n",
       "      <th>Count</th>\n",
       "      <th>Open</th>\n",
       "      <th>High</th>\n",
       "      <th>Low</th>\n",
       "      <th>Close</th>\n",
       "      <th>Volume</th>\n",
       "      <th>VWAP</th>\n",
       "      <th>Target</th>\n",
       "    </tr>\n",
       "  </thead>\n",
       "  <tbody>\n",
       "    <tr>\n",
       "      <th>7</th>\n",
       "      <td>1514764860</td>\n",
       "      <td>11</td>\n",
       "      <td>7.0</td>\n",
       "      <td>329.090000</td>\n",
       "      <td>329.880000</td>\n",
       "      <td>329.090000</td>\n",
       "      <td>329.460000</td>\n",
       "      <td>6.635710e+00</td>\n",
       "      <td>329.454118</td>\n",
       "      <td>NaN</td>\n",
       "    </tr>\n",
       "    <tr>\n",
       "      <th>44</th>\n",
       "      <td>1514765160</td>\n",
       "      <td>7</td>\n",
       "      <td>76.0</td>\n",
       "      <td>26.425500</td>\n",
       "      <td>27.073000</td>\n",
       "      <td>25.550000</td>\n",
       "      <td>26.400000</td>\n",
       "      <td>1.857937e+03</td>\n",
       "      <td>26.352542</td>\n",
       "      <td>NaN</td>\n",
       "    </tr>\n",
       "    <tr>\n",
       "      <th>95</th>\n",
       "      <td>1514765520</td>\n",
       "      <td>11</td>\n",
       "      <td>8.0</td>\n",
       "      <td>327.670000</td>\n",
       "      <td>327.680000</td>\n",
       "      <td>326.770000</td>\n",
       "      <td>326.770000</td>\n",
       "      <td>1.790163e+01</td>\n",
       "      <td>326.990493</td>\n",
       "      <td>NaN</td>\n",
       "    </tr>\n",
       "    <tr>\n",
       "      <th>111</th>\n",
       "      <td>1514765640</td>\n",
       "      <td>11</td>\n",
       "      <td>8.0</td>\n",
       "      <td>326.930000</td>\n",
       "      <td>327.960000</td>\n",
       "      <td>326.220000</td>\n",
       "      <td>327.910000</td>\n",
       "      <td>2.684030e+01</td>\n",
       "      <td>326.476237</td>\n",
       "      <td>NaN</td>\n",
       "    </tr>\n",
       "    <tr>\n",
       "      <th>116</th>\n",
       "      <td>1514765700</td>\n",
       "      <td>7</td>\n",
       "      <td>12.0</td>\n",
       "      <td>26.441000</td>\n",
       "      <td>27.070000</td>\n",
       "      <td>25.812000</td>\n",
       "      <td>26.399000</td>\n",
       "      <td>1.638301e+02</td>\n",
       "      <td>26.449597</td>\n",
       "      <td>NaN</td>\n",
       "    </tr>\n",
       "    <tr>\n",
       "      <th>...</th>\n",
       "      <td>...</td>\n",
       "      <td>...</td>\n",
       "      <td>...</td>\n",
       "      <td>...</td>\n",
       "      <td>...</td>\n",
       "      <td>...</td>\n",
       "      <td>...</td>\n",
       "      <td>...</td>\n",
       "      <td>...</td>\n",
       "      <td>...</td>\n",
       "    </tr>\n",
       "    <tr>\n",
       "      <th>24236801</th>\n",
       "      <td>1632182400</td>\n",
       "      <td>9</td>\n",
       "      <td>775.0</td>\n",
       "      <td>157.181571</td>\n",
       "      <td>157.250000</td>\n",
       "      <td>156.700000</td>\n",
       "      <td>156.943857</td>\n",
       "      <td>4.663725e+03</td>\n",
       "      <td>156.994319</td>\n",
       "      <td>NaN</td>\n",
       "    </tr>\n",
       "    <tr>\n",
       "      <th>24236802</th>\n",
       "      <td>1632182400</td>\n",
       "      <td>10</td>\n",
       "      <td>34.0</td>\n",
       "      <td>2437.065067</td>\n",
       "      <td>2438.000000</td>\n",
       "      <td>2430.226900</td>\n",
       "      <td>2432.907467</td>\n",
       "      <td>3.975460e+00</td>\n",
       "      <td>2434.818747</td>\n",
       "      <td>NaN</td>\n",
       "    </tr>\n",
       "    <tr>\n",
       "      <th>24236803</th>\n",
       "      <td>1632182400</td>\n",
       "      <td>13</td>\n",
       "      <td>380.0</td>\n",
       "      <td>0.091390</td>\n",
       "      <td>0.091527</td>\n",
       "      <td>0.091260</td>\n",
       "      <td>0.091349</td>\n",
       "      <td>2.193732e+06</td>\n",
       "      <td>0.091388</td>\n",
       "      <td>NaN</td>\n",
       "    </tr>\n",
       "    <tr>\n",
       "      <th>24236804</th>\n",
       "      <td>1632182400</td>\n",
       "      <td>12</td>\n",
       "      <td>177.0</td>\n",
       "      <td>0.282168</td>\n",
       "      <td>0.282438</td>\n",
       "      <td>0.281842</td>\n",
       "      <td>0.282051</td>\n",
       "      <td>1.828508e+05</td>\n",
       "      <td>0.282134</td>\n",
       "      <td>NaN</td>\n",
       "    </tr>\n",
       "    <tr>\n",
       "      <th>24236805</th>\n",
       "      <td>1632182400</td>\n",
       "      <td>11</td>\n",
       "      <td>48.0</td>\n",
       "      <td>232.695000</td>\n",
       "      <td>232.800000</td>\n",
       "      <td>232.240000</td>\n",
       "      <td>232.275000</td>\n",
       "      <td>1.035123e+02</td>\n",
       "      <td>232.569697</td>\n",
       "      <td>NaN</td>\n",
       "    </tr>\n",
       "  </tbody>\n",
       "</table>\n",
       "<p>750341 rows × 10 columns</p>\n",
       "</div>"
      ],
      "text/plain": [
       "           timestamp  Asset_ID  Count         Open         High          Low  \\\n",
       "7         1514764860        11    7.0   329.090000   329.880000   329.090000   \n",
       "44        1514765160         7   76.0    26.425500    27.073000    25.550000   \n",
       "95        1514765520        11    8.0   327.670000   327.680000   326.770000   \n",
       "111       1514765640        11    8.0   326.930000   327.960000   326.220000   \n",
       "116       1514765700         7   12.0    26.441000    27.070000    25.812000   \n",
       "...              ...       ...    ...          ...          ...          ...   \n",
       "24236801  1632182400         9  775.0   157.181571   157.250000   156.700000   \n",
       "24236802  1632182400        10   34.0  2437.065067  2438.000000  2430.226900   \n",
       "24236803  1632182400        13  380.0     0.091390     0.091527     0.091260   \n",
       "24236804  1632182400        12  177.0     0.282168     0.282438     0.281842   \n",
       "24236805  1632182400        11   48.0   232.695000   232.800000   232.240000   \n",
       "\n",
       "                Close        Volume         VWAP  Target  \n",
       "7          329.460000  6.635710e+00   329.454118     NaN  \n",
       "44          26.400000  1.857937e+03    26.352542     NaN  \n",
       "95         326.770000  1.790163e+01   326.990493     NaN  \n",
       "111        327.910000  2.684030e+01   326.476237     NaN  \n",
       "116         26.399000  1.638301e+02    26.449597     NaN  \n",
       "...               ...           ...          ...     ...  \n",
       "24236801   156.943857  4.663725e+03   156.994319     NaN  \n",
       "24236802  2432.907467  3.975460e+00  2434.818747     NaN  \n",
       "24236803     0.091349  2.193732e+06     0.091388     NaN  \n",
       "24236804     0.282051  1.828508e+05     0.282134     NaN  \n",
       "24236805   232.275000  1.035123e+02   232.569697     NaN  \n",
       "\n",
       "[750341 rows x 10 columns]"
      ]
     },
     "execution_count": 22,
     "metadata": {},
     "output_type": "execute_result"
    }
   ],
   "source": [
    "null_data"
   ]
  },
  {
   "cell_type": "code",
   "execution_count": null,
   "id": "0c6d154a-ebfb-4bb6-b490-e3b8acf93ce9",
   "metadata": {},
   "outputs": [],
   "source": []
  },
  {
   "cell_type": "code",
   "execution_count": null,
   "id": "abc1a797-d3f8-4803-a065-7689e4a39ee2",
   "metadata": {},
   "outputs": [],
   "source": []
  },
  {
   "cell_type": "code",
   "execution_count": null,
   "id": "1921d490-a89d-48f7-9fa0-a9d695473dbb",
   "metadata": {},
   "outputs": [],
   "source": []
  }
 ],
 "metadata": {
  "kernelspec": {
   "display_name": "python38",
   "language": "python",
   "name": "python38"
  },
  "language_info": {
   "codemirror_mode": {
    "name": "ipython",
    "version": 3
   },
   "file_extension": ".py",
   "mimetype": "text/x-python",
   "name": "python",
   "nbconvert_exporter": "python",
   "pygments_lexer": "ipython3",
   "version": "3.8.8"
  }
 },
 "nbformat": 4,
 "nbformat_minor": 5
}
